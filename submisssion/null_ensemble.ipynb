{
 "cells": [
  {
   "cell_type": "markdown",
   "metadata": {},
   "source": [
    "# null을 삭제한 결과와 null만 학습한 결과 앙상블"
   ]
  },
  {
   "cell_type": "code",
   "execution_count": 1,
   "metadata": {},
   "outputs": [],
   "source": [
    "import glob\n",
    "import os\n",
    "import json\n",
    "import matplotlib.pyplot as plt\n",
    "from PIL import Image\n",
    "from tqdm import tqdm"
   ]
  },
  {
   "cell_type": "code",
   "execution_count": 2,
   "metadata": {},
   "outputs": [
    {
     "data": {
      "text/plain": [
       "413"
      ]
     },
     "execution_count": 2,
     "metadata": {},
     "output_type": "execute_result"
    }
   ],
   "source": [
    "img_list = glob.glob(\"/data/ephemeral/home/datasets/images/test/*.jpg\")\n",
    "img_list.sort()\n",
    "len(img_list)"
   ]
  },
  {
   "cell_type": "code",
   "execution_count": 3,
   "metadata": {},
   "outputs": [],
   "source": [
    "def ensemble():\n",
    "    with open(\"/data/ephemeral/home/baseline_code/outputs/null_deleted_imgsz_1280/submissions/null_deleted_imgsz_1280.json\", \"r\") as a:\n",
    "        deleted_data = json.load(a)\n",
    "    with open(\"/data/ephemeral/home/baseline_code/outputs/null_extracted_cleaned/submissions/train_null_extracted_cleaned.json\", \"r\") as b:\n",
    "        extracted_data = json.load(b)\n",
    "\n",
    "    img_path_list = glob.glob(\"/data/ephemeral/home/datasets/images/test/*.jpg\")\n",
    "    img_path_list.sort()\n",
    "    tbar = tqdm(img_path_list)\n",
    "    tmp_list = []\n",
    "    cnt = 0\n",
    "\n",
    "    for img_path in tbar:\n",
    "        cnt += 1\n",
    "        img_name = img_path.split('/')[-1]\n",
    "        deleted_words = deleted_data['images'][img_name]['words']\n",
    "        extracted_words = extracted_data['images'][img_name]['words']\n",
    "        tmp = dict()\n",
    "\n",
    "        for word_id, word_data in deleted_words.items():\n",
    "            tmp[word_id] = word_data\n",
    "        for word_id2, word_data2 in extracted_words.items():\n",
    "            tmp[str(int(word_id) + int(word_id2))] = word_data2\n",
    "        \n",
    "        tmp_list.append({img_name: {'words': tmp}})\n",
    "\n",
    "    with open(\"/data/ephemeral/home/submissions/v5.json\", \"r\") as f:\n",
    "        result = json.load(f)\n",
    "    for current in tmp_list:\n",
    "        key = list(current.keys())[0]\n",
    "        result['images'][key] = current[key]\n",
    "    with open(\"/data/ephemeral/home/submissions/v5.json\", \"w\") as re:\n",
    "        json.dump(result, re, indent=4)"
   ]
  },
  {
   "cell_type": "code",
   "execution_count": 4,
   "metadata": {},
   "outputs": [
    {
     "name": "stderr",
     "output_type": "stream",
     "text": [
      "100%|██████████| 413/413 [00:00<00:00, 91537.07it/s]\n"
     ]
    }
   ],
   "source": [
    "ensemble()"
   ]
  },
  {
   "cell_type": "code",
   "execution_count": null,
   "metadata": {},
   "outputs": [],
   "source": []
  },
  {
   "cell_type": "code",
   "execution_count": null,
   "metadata": {},
   "outputs": [],
   "source": []
  },
  {
   "cell_type": "code",
   "execution_count": 13,
   "metadata": {},
   "outputs": [
    {
     "data": {
      "text/plain": [
       "1"
      ]
     },
     "execution_count": 13,
     "metadata": {},
     "output_type": "execute_result"
    }
   ],
   "source": [
    "int(\"1\")"
   ]
  },
  {
   "cell_type": "code",
   "execution_count": 14,
   "metadata": {},
   "outputs": [
    {
     "data": {
      "text/plain": [
       "True"
      ]
     },
     "execution_count": 14,
     "metadata": {},
     "output_type": "execute_result"
    }
   ],
   "source": [
    "a = {1: [1], \"A\": [\"a\"]}\n",
    "\"A\" in a"
   ]
  }
 ],
 "metadata": {
  "kernelspec": {
   "display_name": "base",
   "language": "python",
   "name": "python3"
  },
  "language_info": {
   "codemirror_mode": {
    "name": "ipython",
    "version": 3
   },
   "file_extension": ".py",
   "mimetype": "text/x-python",
   "name": "python",
   "nbconvert_exporter": "python",
   "pygments_lexer": "ipython3",
   "version": "3.10.13"
  }
 },
 "nbformat": 4,
 "nbformat_minor": 2
}
