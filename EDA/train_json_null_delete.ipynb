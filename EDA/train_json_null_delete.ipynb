{
 "cells": [
  {
   "cell_type": "markdown",
   "metadata": {},
   "source": [
    "# json 파일에서 null, null인 부분 제거"
   ]
  },
  {
   "cell_type": "code",
   "execution_count": 1,
   "metadata": {},
   "outputs": [],
   "source": [
    "import pandas as pd\n",
    "import numpy as np\n",
    "import glob\n",
    "import json\n",
    "import os\n",
    "import gc\n",
    "from tqdm import tqdm"
   ]
  },
  {
   "cell_type": "code",
   "execution_count": 2,
   "metadata": {},
   "outputs": [],
   "source": [
    "def train_v2_json():\n",
    "    # 원본 annotation파일 오픈\n",
    "    with open('/data/ephemeral/home/datasets/jsons/origin_train.json', 'r') as train_json:\n",
    "        origin_data = json.load(train_json)\n",
    "    \n",
    "    img_path_list = glob.glob('/data/ephemeral/home/datasets/images/train/*.jpg') # img list\n",
    "    img_path_list.sort() # 확인하기 편하게 이름 순서로 정렬\n",
    "    tbar = tqdm(img_path_list[3000:]) # 500개씩 끊어서 수행\n",
    "    tmp_list = list()\n",
    "    cnt = 0\n",
    "\n",
    "    for img_path in tbar:\n",
    "        cnt += 1\n",
    "        img_name = img_path.split('/')[-1] # 이미지 이름 추출\n",
    "        words = origin_data['images'][img_name]['words'] # 사진의 words 정보 가져오기\n",
    "        tmp = dict() # 데이터 임시 저장\n",
    "        # 모든 word 검사\n",
    "        for word_id, word_data in words.items():\n",
    "            ori = word_data.get('orientation')\n",
    "            lan = word_data.get('language')\n",
    "            # orientation, language 모두 None인 경우 특수문자로 보인다. -> 일반 문자만 저장할 예정\n",
    "            if ori != None or lan != None:\n",
    "                tmp[word_id] = word_data\n",
    "\n",
    "        img_w = origin_data['images'][img_name]['img_w']\n",
    "        img_h = origin_data['images'][img_name]['img_h']\n",
    "        tmp_list.append({img_name: {'words': tmp, \"img_w\": img_w, \"img_h\": img_h}})\n",
    "\n",
    "        if cnt % 100 == 0:\n",
    "            with open('/data/ephemeral/home/datasets/jsons/train.json', 'r') as f:\n",
    "                data = json.load(f)\n",
    "            for current in tmp_list:\n",
    "                key = list(current.keys())[0]\n",
    "                data['images'][key] = current[key]\n",
    "            with open('/data/ephemeral/home/datasets/jsons/train.json', 'w') as modified:\n",
    "                json.dump(data, modified, indent=4)\n",
    "        \n",
    "    with open('/data/ephemeral/home/datasets/jsons/train.json', 'r') as f:\n",
    "        data = json.load(f)\n",
    "    for current in tmp_list:\n",
    "        key = list(current.keys())[0]\n",
    "        data['images'][key] = current[key]\n",
    "    with open('/data/ephemeral/home/datasets/jsons/train.json', 'w') as modified:\n",
    "        json.dump(data, modified, indent=4)"
   ]
  },
  {
   "cell_type": "code",
   "execution_count": null,
   "metadata": {},
   "outputs": [
    {
     "name": "stderr",
     "output_type": "stream",
     "text": [
      "100%|██████████| 272/272 [00:19<00:00, 13.75it/s]\n"
     ]
    }
   ],
   "source": [
    "train_v2_json()"
   ]
  },
  {
   "cell_type": "code",
   "execution_count": null,
   "metadata": {},
   "outputs": [],
   "source": []
  }
 ],
 "metadata": {
  "kernelspec": {
   "display_name": "base",
   "language": "python",
   "name": "python3"
  },
  "language_info": {
   "codemirror_mode": {
    "name": "ipython",
    "version": 3
   },
   "file_extension": ".py",
   "mimetype": "text/x-python",
   "name": "python",
   "nbconvert_exporter": "python",
   "pygments_lexer": "ipython3",
   "version": "3.10.13"
  }
 },
 "nbformat": 4,
 "nbformat_minor": 2
}
