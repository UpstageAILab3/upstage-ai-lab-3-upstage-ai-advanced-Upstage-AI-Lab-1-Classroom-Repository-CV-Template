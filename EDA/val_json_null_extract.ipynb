{
 "cells": [
  {
   "cell_type": "markdown",
   "metadata": {},
   "source": [
    "# Null인 부분만 추출"
   ]
  },
  {
   "cell_type": "code",
   "execution_count": 1,
   "metadata": {},
   "outputs": [],
   "source": [
    "import pandas as pd\n",
    "import numpy as np\n",
    "import glob\n",
    "import json\n",
    "import os\n",
    "import gc\n",
    "from tqdm import tqdm"
   ]
  },
  {
   "cell_type": "code",
   "execution_count": 5,
   "metadata": {},
   "outputs": [
    {
     "data": {
      "text/plain": [
       "404"
      ]
     },
     "execution_count": 5,
     "metadata": {},
     "output_type": "execute_result"
    }
   ],
   "source": [
    "img_path_list = glob.glob('/data/ephemeral/home/datasets/images/val/*.jpg')\n",
    "len(img_path_list)"
   ]
  },
  {
   "cell_type": "code",
   "execution_count": 3,
   "metadata": {},
   "outputs": [],
   "source": [
    "def val_null_extract():\n",
    "    with open('/data/ephemeral/home/datasets/jsons/origin_val.json', 'r') as origin_train:\n",
    "        origin_data = json.load(origin_train)\n",
    "\n",
    "        img_path_list = glob.glob('/data/ephemeral/home/datasets/images/val/*.jpg')\n",
    "        img_path_list.sort()\n",
    "        tbar = tqdm(img_path_list)\n",
    "        tmp_list = list()\n",
    "        cnt = 0\n",
    "\n",
    "        for img_path in tbar:\n",
    "            cnt += 1\n",
    "            img_name = img_path.split('/')[-1]\n",
    "            words = origin_data['images'][img_name]['words']\n",
    "            tmp = dict()\n",
    "\n",
    "            for word_id, word_data in words.items():\n",
    "                ori = word_data.get('orientation')\n",
    "                lan = word_data.get('language')\n",
    "                if ori == None and lan == None:\n",
    "                    tmp[word_id] = word_data\n",
    "            \n",
    "            img_w = origin_data['images'][img_name]['img_w']\n",
    "            img_h = origin_data['images'][img_name]['img_h']\n",
    "            tmp_list.append({img_name: {'words': tmp, 'img_w': img_w, 'img_h': img_h}})\n",
    "\n",
    "            if cnt % 101 == 0:\n",
    "                with open('/data/ephemeral/home/datasets/jsons/val_null_extracted.json', 'r') as f:\n",
    "                    data = json.load(f)\n",
    "                for current in tmp_list:\n",
    "                    key = list(current.keys())[0]\n",
    "                    data['images'][key] = current[key]\n",
    "                with open('/data/ephemeral/home/datasets/jsons/val_null_extracted.json', 'w') as modified:\n",
    "                    json.dump(data, modified, indent=4)\n"
   ]
  },
  {
   "cell_type": "code",
   "execution_count": 4,
   "metadata": {},
   "outputs": [
    {
     "name": "stderr",
     "output_type": "stream",
     "text": [
      "100%|██████████| 404/404 [00:00<00:00, 1228.76it/s]\n"
     ]
    }
   ],
   "source": [
    "val_null_extract()"
   ]
  },
  {
   "cell_type": "code",
   "execution_count": null,
   "metadata": {},
   "outputs": [],
   "source": []
  },
  {
   "cell_type": "code",
   "execution_count": null,
   "metadata": {},
   "outputs": [],
   "source": []
  },
  {
   "cell_type": "code",
   "execution_count": null,
   "metadata": {},
   "outputs": [],
   "source": []
  },
  {
   "cell_type": "code",
   "execution_count": null,
   "metadata": {},
   "outputs": [],
   "source": []
  },
  {
   "cell_type": "code",
   "execution_count": null,
   "metadata": {},
   "outputs": [],
   "source": []
  },
  {
   "cell_type": "code",
   "execution_count": null,
   "metadata": {},
   "outputs": [],
   "source": []
  },
  {
   "cell_type": "code",
   "execution_count": null,
   "metadata": {},
   "outputs": [],
   "source": []
  }
 ],
 "metadata": {
  "kernelspec": {
   "display_name": "base",
   "language": "python",
   "name": "python3"
  },
  "language_info": {
   "codemirror_mode": {
    "name": "ipython",
    "version": 3
   },
   "file_extension": ".py",
   "mimetype": "text/x-python",
   "name": "python",
   "nbconvert_exporter": "python",
   "pygments_lexer": "ipython3",
   "version": "3.10.13"
  }
 },
 "nbformat": 4,
 "nbformat_minor": 2
}
