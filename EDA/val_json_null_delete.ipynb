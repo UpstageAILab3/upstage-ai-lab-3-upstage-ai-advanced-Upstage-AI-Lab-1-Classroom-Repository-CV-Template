{
 "cells": [
  {
   "cell_type": "markdown",
   "metadata": {},
   "source": [
    "# json 파일에서 null, null인 부분 제거"
   ]
  },
  {
   "cell_type": "code",
   "execution_count": 1,
   "metadata": {},
   "outputs": [],
   "source": [
    "import pandas as pd\n",
    "import numpy as np\n",
    "import glob\n",
    "import json\n",
    "import os\n",
    "import gc\n",
    "from tqdm import tqdm"
   ]
  },
  {
   "cell_type": "code",
   "execution_count": 2,
   "metadata": {},
   "outputs": [
    {
     "data": {
      "text/plain": [
       "404"
      ]
     },
     "execution_count": 2,
     "metadata": {},
     "output_type": "execute_result"
    }
   ],
   "source": [
    "img_list = glob.glob('/data/ephemeral/home/datasets/images/val/*.jpg')\n",
    "len(img_list)"
   ]
  },
  {
   "cell_type": "code",
   "execution_count": 11,
   "metadata": {},
   "outputs": [
    {
     "name": "stdout",
     "output_type": "stream",
     "text": [
      "{'0001': {'points': [[235.83, 91.13], [430.55, 108.13], [433.64, 133.37], [235.83, 119.46]], 'orientation': 'Horizontal', 'language': ['ko']}, '0002': {'points': [[457.34, 113.79], [468.67, 113.79], [468.67, 130.79], [457.34, 130.79]], 'orientation': 'Horizontal', 'language': None}, '0003': {'points': [[493.91, 114.83], [550.43, 119.49], [551.09, 143.67], [493.24, 140.34]], 'orientation': 'Horizontal', 'language': None}, '0004': {'points': [[232.74, 118.95], [345.55, 125.13], [346.58, 149.85], [233.25, 144.7]], 'orientation': 'Horizontal', 'language': ['ko']}, '0005': {'points': [[233.79, 145.49], [370.86, 155.73], [371.15, 178.76], [234.36, 171.65]], 'orientation': 'Horizontal', 'language': None}, '0006': {'points': [[379.68, 156.86], [419.21, 160.2], [419.21, 181.32], [379.68, 181.32]], 'orientation': 'Horizontal', 'language': ['en']}, '0007': {'points': [[233.22, 173.36], [326.21, 177.63], [326.21, 201.8], [233.5, 198.38]], 'orientation': 'Horizontal', 'language': ['ko']}, '0008': {'points': [[337.02, 177.91], [400.44, 183.03], [400.73, 207.49], [337.59, 203.79]], 'orientation': 'Horizontal', 'language': ['ko']}, '0009': {'points': [[411.25, 185.3], [475.52, 185.3], [475.52, 212.03], [411.25, 212.03]], 'orientation': 'Horizontal', 'language': ['ko']}, '0010': {'points': [[485.88, 190.93], [547.47, 190.93], [547.47, 215.11], [485.88, 215.11]], 'orientation': 'Horizontal', 'language': ['ko']}, '0011': {'points': [[555.94, 192.52], [568.64, 192.52], [568.64, 213.35], [555.94, 213.35]], 'orientation': 'Horizontal', 'language': None}, '0012': {'points': [[233.45, 277.09], [415.04, 285.04], [415.04, 311.66], [233.84, 304.9]], 'orientation': 'Horizontal', 'language': ['en']}, '0013': {'points': [[494.38, 290.04], [602.71, 286.87], [604.16, 309.4], [496.11, 312.29]], 'orientation': 'Horizontal', 'language': None}, '0014': {'points': [[613.11, 284.56], [668.29, 281.67], [669.45, 303.62], [614.85, 306.51]], 'orientation': 'Horizontal', 'language': None}, '0016': {'points': [[236.34, 330.28], [458.44, 336.1], [459.5, 359.96], [236.87, 355.19]], 'orientation': 'Horizontal', 'language': ['en', 'ko']}, '0017': {'points': [[518.87, 336.1], [553.32, 336.1], [553.32, 359.96], [520.46, 360.49]], 'orientation': 'Horizontal', 'language': ['ko']}, '0018': {'points': [[610.57, 332.92], [670.99, 330.28], [670.99, 352.54], [610.57, 356.25]], 'orientation': 'Horizontal', 'language': None}, '0019': {'points': [[237.4, 356.78], [465.86, 361.55], [467.45, 386.46], [237.4, 380.63]], 'orientation': 'Horizontal', 'language': ['en', 'ko']}, '0020': {'points': [[518.87, 361.02], [553.32, 361.02], [553.32, 384.87], [518.87, 384.87]], 'orientation': 'Horizontal', 'language': ['ko']}, '0021': {'points': [[610.04, 359.43], [672.58, 354.66], [673.64, 377.45], [611.1, 382.75]], 'orientation': 'Horizontal', 'language': None}, '0023': {'points': [[241.11, 406.6], [286.17, 406.6], [286.17, 431.52], [241.11, 431.52]], 'orientation': 'Horizontal', 'language': ['ko']}, '0024': {'points': [[375.22, 409.25], [416.03, 409.25], [416.03, 435.23], [375.22, 435.23]], 'orientation': 'Horizontal', 'language': ['ko']}, '0025': {'points': [[544.84, 409.25], [673.11, 403.95], [673.64, 427.28], [545.9, 434.17]], 'orientation': 'Horizontal', 'language': None}, '0026': {'points': [[242.7, 433.64], [287.23, 433.64], [287.23, 457.49], [242.7, 457.49]], 'orientation': 'Horizontal', 'language': ['ko']}, '0027': {'points': [[375.22, 435.76], [417.1, 435.76], [417.1, 461.2], [375.22, 461.2]], 'orientation': 'Horizontal', 'language': ['ko']}, '0028': {'points': [[545.9, 433.11], [674.7, 427.81], [674.7, 451.13], [545.9, 459.08]], 'orientation': 'Horizontal', 'language': None}, '0030': {'points': [[242.17, 480.81], [374.69, 480.81], [374.69, 507.32], [242.17, 507.32]], 'orientation': 'Horizontal', 'language': ['ko']}, '0031': {'points': [[605.8, 479.38], [673.11, 476.04], [673.78, 499.49], [607.13, 504.82]], 'orientation': 'Horizontal', 'language': None}, '0032': {'points': [[243.76, 507.32], [267.09, 507.32], [267.09, 530.11], [243.76, 530.11]], 'orientation': 'Horizontal', 'language': ['ko']}, '0033': {'points': [[276.1, 509.44], [301.01, 509.44], [301.01, 532.76], [276.1, 532.76]], 'orientation': 'Horizontal', 'language': ['ko']}, '0034': {'points': [[309.49, 508.91], [332.28, 508.91], [332.28, 531.7], [309.49, 531.7]], 'orientation': 'Horizontal', 'language': ['ko']}, '0035': {'points': [[617.99, 502.55], [673.11, 502.55], [673.11, 527.46], [617.99, 527.46]], 'orientation': 'Horizontal', 'language': None}, '0037': {'points': [[245.35, 553.43], [419.21, 553.43], [419.21, 582.58], [245.35, 582.58]], 'orientation': 'Horizontal', 'language': ['ko']}, '0038': {'points': [[548.31, 549.43], [675.07, 549.43], [675.07, 575.65], [548.31, 575.65]], 'orientation': 'Horizontal', 'language': None}, '0040': {'points': [[242.93, 603.57], [278.97, 603.57], [278.97, 627.43], [242.93, 627.43]], 'orientation': 'Horizontal', 'language': ['ko']}, '0041': {'points': [[286.39, 606.22], [312.37, 606.22], [312.37, 627.43], [286.39, 627.43]], 'orientation': 'Horizontal', 'language': ['ko']}, '0042': {'points': [[321.91, 605.69], [353.18, 605.69], [353.18, 627.96], [321.91, 627.96]], 'orientation': 'Horizontal', 'language': ['ko']}, '0043': {'points': [[364.31, 607.81], [408.31, 607.81], [408.31, 628.49], [364.31, 628.49]], 'orientation': 'Horizontal', 'language': ['ko']}, '0044': {'points': [[243.46, 627.96], [343.11, 627.96], [343.11, 652.34], [243.46, 652.34]], 'orientation': 'Horizontal', 'language': ['ko']}, '0045': {'points': [[241.87, 653.4], [352.12, 653.4], [352.12, 676.72], [241.87, 676.72]], 'orientation': 'Horizontal', 'language': ['ko']}, '0046': {'points': [[363.78, 651.28], [428.45, 651.28], [428.45, 676.19], [363.78, 676.19]], 'orientation': 'Horizontal', 'language': ['ko']}, '0047': {'points': [[241.34, 678.31], [351.06, 678.31], [351.06, 701.1], [241.34, 701.1]], 'orientation': 'Horizontal', 'language': ['ko']}, '0048': {'points': [[361.13, 677.25], [449.12, 675.66], [449.12, 698.45], [361.13, 700.04]], 'orientation': 'Horizontal', 'language': None}, '0049': {'points': [[241.87, 703.23], [350.53, 703.23], [350.53, 727.08], [241.87, 727.08]], 'orientation': 'Horizontal', 'language': ['ko']}, '0050': {'points': [[360.07, 700.57], [451.24, 700.57], [451.24, 724.96], [360.07, 724.96]], 'orientation': 'Horizontal', 'language': None}, '0051': {'points': [[241.34, 727.61], [350.0, 727.61], [350.0, 753.05], [241.34, 753.05]], 'orientation': 'Horizontal', 'language': ['ko']}, '0052': {'points': [[361.66, 727.08], [428.45, 727.08], [428.45, 751.46], [361.66, 751.46]], 'orientation': 'Horizontal', 'language': None}, '0054': {'points': [[235.33, 784.34], [249.11, 784.34], [249.11, 797.06], [235.33, 797.06]], 'orientation': 'Horizontal', 'language': None}, '0055': {'points': [[258.13, 776.92], [326.5, 776.92], [326.5, 805.02], [258.13, 805.02]], 'orientation': 'Horizontal', 'language': ['ko']}, '0056': {'points': [[339.23, 779.57], [348.77, 779.57], [348.77, 803.43], [339.23, 803.43]], 'orientation': 'Horizontal', 'language': None}, '0057': {'points': [[358.31, 774.8], [494.53, 774.8], [494.53, 802.9], [358.31, 802.9]], 'orientation': 'Horizontal', 'language': ['ko']}, '0059': {'points': [[401.77, 829.93], [447.89, 829.93], [447.89, 878.17], [401.77, 878.17]], 'orientation': 'Horizontal', 'language': ['ko']}, '0060': {'points': [[456.37, 828.87], [549.66, 828.87], [549.66, 877.1], [456.37, 877.1]], 'orientation': 'Horizontal', 'language': ['ko']}, '0061': {'points': [[226.95, 904.11], [319.61, 904.11], [319.61, 931.82], [226.95, 931.82]], 'orientation': 'Horizontal', 'language': ['ko']}, '0062': {'points': [[330.97, 902.75], [467.69, 902.75], [467.69, 931.37], [330.97, 931.37]], 'orientation': 'Horizontal', 'language': ['ko']}, '0063': {'points': [[477.68, 903.2], [547.63, 903.2], [547.63, 931.82], [477.68, 931.82]], 'orientation': 'Horizontal', 'language': ['ko']}, '0064': {'points': [[559.42, 903.28], [602.75, 903.28], [602.75, 927.83], [559.42, 927.83]], 'orientation': 'Horizontal', 'language': ['ko']}, '0065': {'points': [[611.7, 904.15], [674.39, 906.17], [675.84, 932.75], [612.28, 929.86]], 'orientation': 'Horizontal', 'language': ['ko']}, '0066': {'points': [[226.15, 932.49], [295.82, 932.49], [295.82, 958.81], [226.15, 958.81]], 'orientation': 'Horizontal', 'language': ['ko']}, '0067': {'points': [[307.84, 933.17], [376.15, 933.17], [376.15, 959.27], [307.84, 959.27]], 'orientation': 'Horizontal', 'language': ['ko']}, '0068': {'points': [[387.52, 934.52], [434.72, 934.52], [434.72, 959.49], [387.52, 959.49]], 'orientation': 'Horizontal', 'language': ['ko']}, '0069': {'points': [[445.62, 934.3], [468.08, 934.3], [468.08, 959.71], [445.62, 959.71]], 'orientation': 'Horizontal', 'language': ['ko']}, '0070': {'points': [[480.43, 932.25], [568.32, 932.25], [567.9, 955.97], [480.43, 958.3]], 'orientation': 'Horizontal', 'language': ['ko']}, '0071': {'points': [[582.59, 930.84], [674.24, 935.73], [674.0, 958.95], [580.88, 954.79]], 'orientation': 'Horizontal', 'language': ['ko']}, '0072': {'points': [[224.59, 959.17], [384.77, 959.17], [384.77, 987.45], [224.59, 987.45]], 'orientation': 'Horizontal', 'language': ['ko']}, '0073': {'points': [[399.38, 960.76], [490.59, 960.76], [490.59, 986.5], [399.38, 986.5]], 'orientation': 'Horizontal', 'language': ['ko']}, '0074': {'points': [[503.21, 959.16], [545.57, 959.16], [545.57, 984.31], [503.21, 984.31]], 'orientation': 'Horizontal', 'language': ['ko']}, '0075': {'points': [[558.02, 957.83], [577.61, 957.83], [577.61, 980.6], [558.02, 980.6]], 'orientation': 'Horizontal', 'language': ['ko']}, '0076': {'points': [[589.26, 956.77], [677.7, 962.6], [677.7, 990.67], [588.21, 981.93]], 'orientation': 'Horizontal', 'language': ['ko']}, '0077': {'points': [[219.61, 989.49], [267.85, 989.49], [267.85, 1016.07], [219.61, 1016.07]], 'orientation': 'Horizontal', 'language': ['ko']}, '0078': {'points': [[277.68, 990.07], [440.9, 990.07], [440.9, 1015.2], [277.68, 1015.2]], 'orientation': 'Horizontal', 'language': ['ko']}, '0079': {'points': [[453.85, 987.14], [531.57, 987.14], [531.57, 1012.07], [453.85, 1012.07]], 'orientation': 'Horizontal', 'language': ['ko']}, '0080': {'points': [[547.22, 982.25], [666.24, 990.8], [665.27, 1017.69], [546.73, 1009.38]], 'orientation': 'Horizontal', 'language': ['ko']}, '0081': {'points': [[219.27, 1017.37], [289.44, 1017.37], [289.44, 1044.64], [219.27, 1044.64]], 'orientation': 'Horizontal', 'language': ['ko']}, '0082': {'points': [[300.83, 1016.57], [360.14, 1016.57], [360.14, 1043.05], [300.83, 1043.05]], 'orientation': 'Horizontal', 'language': ['ko']}, '0083': {'points': [[373.21, 1016.33], [420.24, 1016.33], [420.24, 1043.35], [373.21, 1043.35]], 'orientation': 'Horizontal', 'language': ['ko']}, '0084': {'points': [[430.41, 1015.7], [452.97, 1015.7], [452.97, 1039.53], [430.41, 1039.53]], 'orientation': 'Horizontal', 'language': ['ko']}, '0085': {'points': [[465.05, 1013.16], [533.38, 1013.16], [533.38, 1037.31], [465.05, 1037.31]], 'orientation': 'Horizontal', 'language': ['ko']}, '0086': {'points': [[545.19, 1010.68], [615.6, 1015.8], [614.72, 1041.03], [543.43, 1034.5]], 'orientation': 'Horizontal', 'language': ['ko']}, '0088': {'points': [[340.09, 1150.91], [427.9, 1150.28], [483.9, 1145.82], [569.8, 1159.18], [568.52, 1189.73], [484.53, 1174.45], [427.9, 1177.64], [340.72, 1178.91]], 'orientation': 'Horizontal', 'language': None}}\n",
      "1280\n",
      "960\n"
     ]
    }
   ],
   "source": [
    "tmp = dict()\n",
    "with open('/data/ephemeral/home/datasets/jsons/origin_train.json', 'r') as train_json:\n",
    "    data = json.load(train_json)\n",
    "    words = data['images']['drp.en_ko.in_house.selectstar_000003.jpg']['words']\n",
    "\n",
    "    for word_id, word_data in words.items():\n",
    "        ori = word_data.get('orientation')\n",
    "        lan = word_data.get('language')\n",
    "        if ori != None or lan != None:\n",
    "            tmp[word_id] = word_data\n",
    "\n",
    "    img_w = data['images']['drp.en_ko.in_house.selectstar_000003.jpg']['img_w']\n",
    "    img_h = data['images']['drp.en_ko.in_house.selectstar_000003.jpg']['img_h']\n",
    "    \n",
    "print(tmp)\n",
    "print(img_w)\n",
    "print(img_h)"
   ]
  },
  {
   "cell_type": "code",
   "execution_count": 13,
   "metadata": {},
   "outputs": [],
   "source": [
    "with open('/data/ephemeral/home/datasets/jsons/val.json', 'r') as f:\n",
    "    data = json.load(f)\n",
    "\n",
    "data['images']['drp.en_ko.in_house.selectstar_000003.jpg'] = {\"words\": tmp}\n",
    "data['images']['drp.en_ko.in_house.selectstar_000003.jpg']['img_w'] = img_w\n",
    "data['images']['drp.en_ko.in_house.selectstar_000003.jpg']['img_h'] = img_h\n",
    "\n",
    "with open('/data/ephemeral/home/datasets/jsons/val.json', 'w') as modified:\n",
    "    json.dump(data, modified, indent=4)"
   ]
  },
  {
   "cell_type": "code",
   "execution_count": 14,
   "metadata": {},
   "outputs": [],
   "source": [
    "def val_v2_json():\n",
    "    # 원본 annotation파일 오픈\n",
    "    with open('/data/ephemeral/home/datasets/jsons/origin_val.json', 'r') as train_json:\n",
    "        origin_data = json.load(train_json)\n",
    "    \n",
    "    img_path_list = glob.glob('/data/ephemeral/home/datasets/images/val/*.jpg') # img list\n",
    "    img_path_list.sort() # 확인하기 편하게 이름 순서로 정렬\n",
    "    tbar = tqdm(img_path_list) \n",
    "    tmp_list = list()\n",
    "    cnt = 0\n",
    "\n",
    "    for img_path in tbar:\n",
    "        cnt += 1\n",
    "        img_name = img_path.split('/')[-1] # 이미지 이름 추출\n",
    "        words = origin_data['images'][img_name]['words'] # 사진의 words 정보 가져오기\n",
    "        tmp = dict() # 데이터 임시 저장\n",
    "        # 모든 word 검사\n",
    "        for word_id, word_data in words.items():\n",
    "            ori = word_data.get('orientation')\n",
    "            lan = word_data.get('language')\n",
    "            # orientation, language 모두 None인 경우 특수문자로 보인다. -> 일반 문자만 저장할 예정\n",
    "            if ori != None or lan != None:\n",
    "                tmp[word_id] = word_data\n",
    "        \n",
    "        img_w = origin_data['images'][img_name]['img_w']\n",
    "        img_h = origin_data['images'][img_name]['img_h']\n",
    "        tmp_list.append({img_name: {'words': tmp, \"img_w\": img_w, \"img_h\": img_h}})\n",
    "\n",
    "        if cnt % 100 == 0:\n",
    "            with open('/data/ephemeral/home/datasets/jsons/val.json', 'r') as f:\n",
    "                data = json.load(f)\n",
    "            for current in tmp_list:\n",
    "                key = list(current.keys())[0]\n",
    "                data['images'][key] = current[key]\n",
    "            with open('/data/ephemeral/home/datasets/jsons/val.json', 'w') as modified:\n",
    "                json.dump(data, modified, indent=4)\n",
    "        \n",
    "    with open('/data/ephemeral/home/datasets/jsons/val.json', 'r') as f:\n",
    "        data = json.load(f)\n",
    "    for current in tmp_list:\n",
    "        key = list(current.keys())[0]\n",
    "        data['images'][key] = current[key]\n",
    "    with open('/data/ephemeral/home/datasets/jsons/val.json', 'w') as modified:\n",
    "        json.dump(data, modified, indent=4)"
   ]
  },
  {
   "cell_type": "code",
   "execution_count": 15,
   "metadata": {},
   "outputs": [
    {
     "name": "stderr",
     "output_type": "stream",
     "text": [
      "100%|██████████| 404/404 [00:02<00:00, 154.80it/s]\n"
     ]
    }
   ],
   "source": [
    "val_v2_json()"
   ]
  },
  {
   "cell_type": "code",
   "execution_count": null,
   "metadata": {},
   "outputs": [],
   "source": []
  }
 ],
 "metadata": {
  "kernelspec": {
   "display_name": "base",
   "language": "python",
   "name": "python3"
  },
  "language_info": {
   "codemirror_mode": {
    "name": "ipython",
    "version": 3
   },
   "file_extension": ".py",
   "mimetype": "text/x-python",
   "name": "python",
   "nbconvert_exporter": "python",
   "pygments_lexer": "ipython3",
   "version": "3.10.13"
  }
 },
 "nbformat": 4,
 "nbformat_minor": 2
}
